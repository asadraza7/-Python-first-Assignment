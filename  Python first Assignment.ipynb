{
 "cells": [
  {
   "cell_type": "code",
   "execution_count": 3,
   "metadata": {},
   "outputs": [],
   "source": [
    "#read this data set"
   ]
  },
  {
   "cell_type": "code",
   "execution_count": 1,
   "metadata": {
    "executionInfo": {
     "elapsed": 767,
     "status": "ok",
     "timestamp": 1719992434499,
     "user": {
      "displayName": "Asad Raza",
      "userId": "18380366987480511932"
     },
     "user_tz": -330
    },
    "id": "dWKDqzGgdclF"
   },
   "outputs": [],
   "source": [
    "#(1)Q Explain the key features of Python that make it a popular choice for programming\n",
    "\n",
    "#(Ans)=Key features of python are as follows\n",
    "#(1) python is a programming language that is easy to understand and write, making it a popular choice among the devloper and programmers\n",
    "#(2) python is comfortable with various programming model such as procedural,object oriented and functional programmers\n",
    "#(3) python is widely used in various industries because python has large numbers of libraries (nearly it has 1,37,000 libraries)."
   ]
  },
  {
   "cell_type": "code",
   "execution_count": 9,
   "metadata": {
    "colab": {
     "base_uri": "https://localhost:8080/"
    },
    "executionInfo": {
     "elapsed": 822,
     "status": "ok",
     "timestamp": 1719993175017,
     "user": {
      "displayName": "Asad Raza",
      "userId": "18380366987480511932"
     },
     "user_tz": -330
    },
    "id": "3ruoGZo7idLw",
    "outputId": "3655c91c-294f-4327-942b-355192b9c00b"
   },
   "outputs": [
    {
     "name": "stdout",
     "output_type": "stream",
     "text": [
      "number is greater\n"
     ]
    }
   ],
   "source": [
    "#(2)Q Describe the role of predefined keywords in Python and provide examples of how they are used in a program.\n",
    "\n",
    "#(Ans)= Keyboards are predefined words that can hold special meaning for various purposes.It can be in the form of such as \"from\",\"if\",\"else\"etc. Variables can not be keyword.\n",
    "\n",
    "#examples how they are used in programs\n",
    "a=5\n",
    "if a > 4:\n",
    "    print(\"number is greater\")"
   ]
  },
  {
   "cell_type": "code",
   "execution_count": 11,
   "metadata": {
    "executionInfo": {
     "elapsed": 498,
     "status": "ok",
     "timestamp": 1719993454673,
     "user": {
      "displayName": "Asad Raza",
      "userId": "18380366987480511932"
     },
     "user_tz": -330
    },
    "id": "EX00vTtjidpf"
   },
   "outputs": [],
   "source": [
    "#(3)Q Compare and contrast mutable and immutable objects in Python with examples\n",
    "\n",
    "#(Ans)=Mutable object: Value or data can be changed after they are created they are known as Mutable object.List and Dictionary are Mutable objects\n",
    "\n",
    "#example of Mutable objects\n",
    "A=[1,2,3.5,\"ram\"]\n",
    "A[1]=\"name\""
   ]
  },
  {
   "cell_type": "code",
   "execution_count": 12,
   "metadata": {
    "colab": {
     "base_uri": "https://localhost:8080/"
    },
    "executionInfo": {
     "elapsed": 649,
     "status": "ok",
     "timestamp": 1719993459792,
     "user": {
      "displayName": "Asad Raza",
      "userId": "18380366987480511932"
     },
     "user_tz": -330
    },
    "id": "l7i6D7Bnid0l",
    "outputId": "534e5a1e-5b6f-417d-df88-748bb7022db4"
   },
   "outputs": [
    {
     "data": {
      "text/plain": [
       "[1, 'name', 3.5, 'ram']"
      ]
     },
     "execution_count": 12,
     "metadata": {},
     "output_type": "execute_result"
    }
   ],
   "source": [
    "A"
   ]
  },
  {
   "cell_type": "code",
   "execution_count": 13,
   "metadata": {
    "colab": {
     "base_uri": "https://localhost:8080/",
     "height": 297
    },
    "executionInfo": {
     "elapsed": 660,
     "status": "error",
     "timestamp": 1719993667478,
     "user": {
      "displayName": "Asad Raza",
      "userId": "18380366987480511932"
     },
     "user_tz": -330
    },
    "id": "xuvAeW-smX3g",
    "outputId": "d4863f22-9cbf-44fe-91fa-a80c33f2f584"
   },
   "outputs": [
    {
     "ename": "TypeError",
     "evalue": "'str' object does not support item assignment",
     "output_type": "error",
     "traceback": [
      "\u001b[0;31m---------------------------------------------------------------------------\u001b[0m",
      "\u001b[0;31mTypeError\u001b[0m                                 Traceback (most recent call last)",
      "\u001b[0;32m<ipython-input-13-3285ddaa2e31>\u001b[0m in \u001b[0;36m<cell line: 4>\u001b[0;34m()\u001b[0m\n\u001b[1;32m      2\u001b[0m \u001b[0;31m#example of immutable objects\u001b[0m\u001b[0;34m\u001b[0m\u001b[0;34m\u001b[0m\u001b[0m\n\u001b[1;32m      3\u001b[0m \u001b[0mb\u001b[0m\u001b[0;34m=\u001b[0m\u001b[0;34m\"Data science\"\u001b[0m\u001b[0;34m\u001b[0m\u001b[0;34m\u001b[0m\u001b[0m\n\u001b[0;32m----> 4\u001b[0;31m \u001b[0mb\u001b[0m\u001b[0;34m[\u001b[0m\u001b[0;36m0\u001b[0m\u001b[0;34m]\u001b[0m\u001b[0;34m=\u001b[0m\u001b[0;34m\"set\"\u001b[0m\u001b[0;34m\u001b[0m\u001b[0;34m\u001b[0m\u001b[0m\n\u001b[0m",
      "\u001b[0;31mTypeError\u001b[0m: 'str' object does not support item assignment"
     ]
    }
   ],
   "source": [
    "#Immutable object:values and data cannot be changed after they are created they are known as immutable object.String and Tuple are immutable objects\n",
    "#example of immutable objects\n",
    "b=\"Data science\"\n",
    "b[0]=\"set\""
   ]
  },
  {
   "cell_type": "code",
   "execution_count": 16,
   "metadata": {
    "colab": {
     "base_uri": "https://localhost:8080/"
    },
    "executionInfo": {
     "elapsed": 520,
     "status": "ok",
     "timestamp": 1719994082860,
     "user": {
      "displayName": "Asad Raza",
      "userId": "18380366987480511932"
     },
     "user_tz": -330
    },
    "id": "5KIzjFTJmYNZ",
    "outputId": "d70ee1b3-cd28-4968-8765-6486070ca7a4"
   },
   "outputs": [
    {
     "data": {
      "text/plain": [
       "11"
      ]
     },
     "execution_count": 16,
     "metadata": {},
     "output_type": "execute_result"
    }
   ],
   "source": [
    "#(4)Q Discuss the different types of operators in Python and provide examples of how they are used\n",
    "\n",
    "#(Ans)=operators:operators are a special symbol that is used to perform various operations on the basis of variables.\n",
    "\n",
    "#Different type of python operators are as follows\n",
    "#(1) Arthimatic operators [\"+\",\"-\",\"*\",\"/\",\"%\",\"**\",\"//\"]\n",
    "#(2) comparison operators [\"==\",\"!=\",\">=\",\"<=\"]\n",
    "#(3) Logical operators [\"And\",\"or\",\"not\"]\n",
    "#(4) Assignment operators [\"=\",\"+=\",\"-=\",\"/=\"]\n",
    "#(5) Membership operators [\"in\",\"not in\"]\n",
    "#(6) Identify operators [\"is\"]\n",
    "#(7) Bitwise operators [\"&\",\"|\",\"~\",\"^\"]\n",
    "#Examples of Arthimatic operator\n",
    "a=5\n",
    "b=6\n",
    "a+b"
   ]
  },
  {
   "cell_type": "code",
   "execution_count": 17,
   "metadata": {
    "colab": {
     "base_uri": "https://localhost:8080/"
    },
    "executionInfo": {
     "elapsed": 659,
     "status": "ok",
     "timestamp": 1719994111476,
     "user": {
      "displayName": "Asad Raza",
      "userId": "18380366987480511932"
     },
     "user_tz": -330
    },
    "id": "aBtwHIV2ou6v",
    "outputId": "59162c92-952e-4e17-a7de-65b6c353dedd"
   },
   "outputs": [
    {
     "data": {
      "text/plain": [
       "30"
      ]
     },
     "execution_count": 17,
     "metadata": {},
     "output_type": "execute_result"
    }
   ],
   "source": [
    "a*b"
   ]
  },
  {
   "cell_type": "code",
   "execution_count": 18,
   "metadata": {
    "colab": {
     "base_uri": "https://localhost:8080/"
    },
    "executionInfo": {
     "elapsed": 535,
     "status": "ok",
     "timestamp": 1719994123685,
     "user": {
      "displayName": "Asad Raza",
      "userId": "18380366987480511932"
     },
     "user_tz": -330
    },
    "id": "kkx9SvqRovHc",
    "outputId": "9681f9bc-bbc3-459d-90e7-6297da76b108"
   },
   "outputs": [
    {
     "data": {
      "text/plain": [
       "1.2"
      ]
     },
     "execution_count": 18,
     "metadata": {},
     "output_type": "execute_result"
    }
   ],
   "source": [
    "b/a"
   ]
  },
  {
   "cell_type": "code",
   "execution_count": 19,
   "metadata": {
    "colab": {
     "base_uri": "https://localhost:8080/"
    },
    "executionInfo": {
     "elapsed": 520,
     "status": "ok",
     "timestamp": 1719994152058,
     "user": {
      "displayName": "Asad Raza",
      "userId": "18380366987480511932"
     },
     "user_tz": -330
    },
    "id": "SBf3n_V-o42b",
    "outputId": "5bf3c1ce-ddc6-4978-be88-195914f44b0b"
   },
   "outputs": [
    {
     "data": {
      "text/plain": [
       "1"
      ]
     },
     "execution_count": 19,
     "metadata": {},
     "output_type": "execute_result"
    }
   ],
   "source": [
    "a//3"
   ]
  },
  {
   "cell_type": "code",
   "execution_count": 20,
   "metadata": {
    "colab": {
     "base_uri": "https://localhost:8080/"
    },
    "executionInfo": {
     "elapsed": 637,
     "status": "ok",
     "timestamp": 1719994189542,
     "user": {
      "displayName": "Asad Raza",
      "userId": "18380366987480511932"
     },
     "user_tz": -330
    },
    "id": "l7TYp0bGo4--",
    "outputId": "7eb4c0d3-9683-4d31-a605-35db4de3ecc0"
   },
   "outputs": [
    {
     "data": {
      "text/plain": [
       "True"
      ]
     },
     "execution_count": 20,
     "metadata": {},
     "output_type": "execute_result"
    }
   ],
   "source": [
    "#Example of comparison operators\n",
    "a==5\n",
    "a==a"
   ]
  },
  {
   "cell_type": "code",
   "execution_count": 21,
   "metadata": {
    "colab": {
     "base_uri": "https://localhost:8080/"
    },
    "executionInfo": {
     "elapsed": 490,
     "status": "ok",
     "timestamp": 1719994221713,
     "user": {
      "displayName": "Asad Raza",
      "userId": "18380366987480511932"
     },
     "user_tz": -330
    },
    "id": "EqdnmtocpI5s",
    "outputId": "13ee51ba-9ace-48b5-a566-dfcf86dbdf58"
   },
   "outputs": [
    {
     "data": {
      "text/plain": [
       "False"
      ]
     },
     "execution_count": 21,
     "metadata": {},
     "output_type": "execute_result"
    }
   ],
   "source": [
    "a!=a"
   ]
  },
  {
   "cell_type": "code",
   "execution_count": 22,
   "metadata": {
    "colab": {
     "base_uri": "https://localhost:8080/"
    },
    "executionInfo": {
     "elapsed": 575,
     "status": "ok",
     "timestamp": 1719994262177,
     "user": {
      "displayName": "Asad Raza",
      "userId": "18380366987480511932"
     },
     "user_tz": -330
    },
    "id": "I32vuRWYpJDO",
    "outputId": "609aaef9-07fb-4fd3-9412-66cda386debb"
   },
   "outputs": [
    {
     "data": {
      "text/plain": [
       "True"
      ]
     },
     "execution_count": 22,
     "metadata": {},
     "output_type": "execute_result"
    }
   ],
   "source": [
    "#Example of logical operator\n",
    "True and True"
   ]
  },
  {
   "cell_type": "code",
   "execution_count": 23,
   "metadata": {
    "colab": {
     "base_uri": "https://localhost:8080/"
    },
    "executionInfo": {
     "elapsed": 665,
     "status": "ok",
     "timestamp": 1719994271322,
     "user": {
      "displayName": "Asad Raza",
      "userId": "18380366987480511932"
     },
     "user_tz": -330
    },
    "id": "MIbLa5XCpJk8",
    "outputId": "c291b7f9-a327-431c-cda8-c3b7a2022fad"
   },
   "outputs": [
    {
     "data": {
      "text/plain": [
       "False"
      ]
     },
     "execution_count": 23,
     "metadata": {},
     "output_type": "execute_result"
    }
   ],
   "source": [
    "True and False"
   ]
  },
  {
   "cell_type": "code",
   "execution_count": 24,
   "metadata": {
    "colab": {
     "base_uri": "https://localhost:8080/"
    },
    "executionInfo": {
     "elapsed": 534,
     "status": "ok",
     "timestamp": 1719994300468,
     "user": {
      "displayName": "Asad Raza",
      "userId": "18380366987480511932"
     },
     "user_tz": -330
    },
    "id": "9r2hKdFKpcqK",
    "outputId": "aab0ad14-6653-4d90-e3b7-7fa6d572a083"
   },
   "outputs": [
    {
     "data": {
      "text/plain": [
       "True"
      ]
     },
     "execution_count": 24,
     "metadata": {},
     "output_type": "execute_result"
    }
   ],
   "source": [
    "False or True"
   ]
  },
  {
   "cell_type": "code",
   "execution_count": 25,
   "metadata": {
    "colab": {
     "base_uri": "https://localhost:8080/"
    },
    "executionInfo": {
     "elapsed": 785,
     "status": "ok",
     "timestamp": 1719994309388,
     "user": {
      "displayName": "Asad Raza",
      "userId": "18380366987480511932"
     },
     "user_tz": -330
    },
    "id": "dvormMsWpdKv",
    "outputId": "d6d31448-51d3-46c8-cf49-bc7988300db3"
   },
   "outputs": [
    {
     "data": {
      "text/plain": [
       "False"
      ]
     },
     "execution_count": 25,
     "metadata": {},
     "output_type": "execute_result"
    }
   ],
   "source": [
    "False or False"
   ]
  },
  {
   "cell_type": "code",
   "execution_count": 26,
   "metadata": {
    "executionInfo": {
     "elapsed": 532,
     "status": "ok",
     "timestamp": 1719994700786,
     "user": {
      "displayName": "Asad Raza",
      "userId": "18380366987480511932"
     },
     "user_tz": -330
    },
    "id": "SNnPJ19gpddH"
   },
   "outputs": [],
   "source": [
    "#Examples of Assignment operators\n",
    "a=10\n",
    "b=a+5"
   ]
  },
  {
   "cell_type": "code",
   "execution_count": 27,
   "metadata": {
    "colab": {
     "base_uri": "https://localhost:8080/"
    },
    "executionInfo": {
     "elapsed": 584,
     "status": "ok",
     "timestamp": 1719994707623,
     "user": {
      "displayName": "Asad Raza",
      "userId": "18380366987480511932"
     },
     "user_tz": -330
    },
    "id": "4L4LL7ZFpdp_",
    "outputId": "bd04d580-3998-4fc3-8e21-2577c1cdb0e6"
   },
   "outputs": [
    {
     "data": {
      "text/plain": [
       "15"
      ]
     },
     "execution_count": 27,
     "metadata": {},
     "output_type": "execute_result"
    }
   ],
   "source": [
    "b"
   ]
  },
  {
   "cell_type": "code",
   "execution_count": 28,
   "metadata": {
    "executionInfo": {
     "elapsed": 503,
     "status": "ok",
     "timestamp": 1719994751325,
     "user": {
      "displayName": "Asad Raza",
      "userId": "18380366987480511932"
     },
     "user_tz": -330
    },
    "id": "RJhfTiS2pd7_"
   },
   "outputs": [],
   "source": [
    "b/=7"
   ]
  },
  {
   "cell_type": "code",
   "execution_count": 29,
   "metadata": {
    "colab": {
     "base_uri": "https://localhost:8080/"
    },
    "executionInfo": {
     "elapsed": 487,
     "status": "ok",
     "timestamp": 1719994756590,
     "user": {
      "displayName": "Asad Raza",
      "userId": "18380366987480511932"
     },
     "user_tz": -330
    },
    "id": "HwMTx_QepJvf",
    "outputId": "6e0264b4-004c-49ed-b160-07dfa2c36292"
   },
   "outputs": [
    {
     "data": {
      "text/plain": [
       "2.142857142857143"
      ]
     },
     "execution_count": 29,
     "metadata": {},
     "output_type": "execute_result"
    }
   ],
   "source": [
    "b"
   ]
  },
  {
   "cell_type": "code",
   "execution_count": 30,
   "metadata": {
    "colab": {
     "base_uri": "https://localhost:8080/"
    },
    "executionInfo": {
     "elapsed": 519,
     "status": "ok",
     "timestamp": 1719994836641,
     "user": {
      "displayName": "Asad Raza",
      "userId": "18380366987480511932"
     },
     "user_tz": -330
    },
    "id": "1BxrfgIyrTWP",
    "outputId": "95d5d148-72d4-495c-9484-40deb988349e"
   },
   "outputs": [
    {
     "data": {
      "text/plain": [
       "True"
      ]
     },
     "execution_count": 30,
     "metadata": {},
     "output_type": "execute_result"
    }
   ],
   "source": [
    "#Example of membership operators\n",
    "a=\"Asad raza\"\n",
    "\"d\" in a"
   ]
  },
  {
   "cell_type": "code",
   "execution_count": 31,
   "metadata": {
    "colab": {
     "base_uri": "https://localhost:8080/"
    },
    "executionInfo": {
     "elapsed": 959,
     "status": "ok",
     "timestamp": 1719994850510,
     "user": {
      "displayName": "Asad Raza",
      "userId": "18380366987480511932"
     },
     "user_tz": -330
    },
    "id": "2oypTctVrTiU",
    "outputId": "848587d0-cb2b-491b-9035-56a4ca98e9e3"
   },
   "outputs": [
    {
     "data": {
      "text/plain": [
       "False"
      ]
     },
     "execution_count": 31,
     "metadata": {},
     "output_type": "execute_result"
    }
   ],
   "source": [
    "\"d\" not in a"
   ]
  },
  {
   "cell_type": "code",
   "execution_count": 32,
   "metadata": {
    "colab": {
     "base_uri": "https://localhost:8080/"
    },
    "executionInfo": {
     "elapsed": 654,
     "status": "ok",
     "timestamp": 1719994930349,
     "user": {
      "displayName": "Asad Raza",
      "userId": "18380366987480511932"
     },
     "user_tz": -330
    },
    "id": "2-iOoQ8nrqEx",
    "outputId": "162f940c-fcda-4234-dd99-12c35b849a23"
   },
   "outputs": [
    {
     "data": {
      "text/plain": [
       "True"
      ]
     },
     "execution_count": 32,
     "metadata": {},
     "output_type": "execute_result"
    }
   ],
   "source": [
    "# Example of identity operators\n",
    "a=5\n",
    "b=a\n",
    "a is b"
   ]
  },
  {
   "cell_type": "code",
   "execution_count": 33,
   "metadata": {
    "colab": {
     "base_uri": "https://localhost:8080/"
    },
    "executionInfo": {
     "elapsed": 857,
     "status": "ok",
     "timestamp": 1719994941382,
     "user": {
      "displayName": "Asad Raza",
      "userId": "18380366987480511932"
     },
     "user_tz": -330
    },
    "id": "R0JzuRRFrqQG",
    "outputId": "4aed49ca-36b8-4593-9279-be579ceb5cca"
   },
   "outputs": [
    {
     "data": {
      "text/plain": [
       "False"
      ]
     },
     "execution_count": 33,
     "metadata": {},
     "output_type": "execute_result"
    }
   ],
   "source": [
    "a is not b"
   ]
  },
  {
   "cell_type": "code",
   "execution_count": 34,
   "metadata": {
    "colab": {
     "base_uri": "https://localhost:8080/"
    },
    "executionInfo": {
     "elapsed": 10,
     "status": "ok",
     "timestamp": 1719995006988,
     "user": {
      "displayName": "Asad Raza",
      "userId": "18380366987480511932"
     },
     "user_tz": -330
    },
    "id": "rKnpPQ-erquV",
    "outputId": "65a06686-e7dc-4a92-e062-c73ce84e940b"
   },
   "outputs": [
    {
     "data": {
      "text/plain": [
       "10"
      ]
     },
     "execution_count": 34,
     "metadata": {},
     "output_type": "execute_result"
    }
   ],
   "source": [
    "#Example of Bitwise operators\n",
    "10&10"
   ]
  },
  {
   "cell_type": "code",
   "execution_count": 35,
   "metadata": {
    "colab": {
     "base_uri": "https://localhost:8080/",
     "height": 35
    },
    "executionInfo": {
     "elapsed": 615,
     "status": "ok",
     "timestamp": 1719995025073,
     "user": {
      "displayName": "Asad Raza",
      "userId": "18380366987480511932"
     },
     "user_tz": -330
    },
    "id": "ClvtWHOtrq8J",
    "outputId": "0fe196a2-6420-411a-9a2d-06af5b6764dd"
   },
   "outputs": [
    {
     "data": {
      "application/vnd.google.colaboratory.intrinsic+json": {
       "type": "string"
      },
      "text/plain": [
       "'0b1010'"
      ]
     },
     "execution_count": 35,
     "metadata": {},
     "output_type": "execute_result"
    }
   ],
   "source": [
    "bin(10)"
   ]
  },
  {
   "cell_type": "code",
   "execution_count": 36,
   "metadata": {
    "colab": {
     "base_uri": "https://localhost:8080/"
    },
    "executionInfo": {
     "elapsed": 491,
     "status": "ok",
     "timestamp": 1719995041708,
     "user": {
      "displayName": "Asad Raza",
      "userId": "18380366987480511932"
     },
     "user_tz": -330
    },
    "id": "dWaGbKfbrrL6",
    "outputId": "7d7d2878-55b7-4ac9-c305-1dca1254b970"
   },
   "outputs": [
    {
     "data": {
      "text/plain": [
       "13"
      ]
     },
     "execution_count": 36,
     "metadata": {},
     "output_type": "execute_result"
    }
   ],
   "source": [
    "5|8"
   ]
  },
  {
   "cell_type": "code",
   "execution_count": 37,
   "metadata": {
    "colab": {
     "base_uri": "https://localhost:8080/",
     "height": 35
    },
    "executionInfo": {
     "elapsed": 530,
     "status": "ok",
     "timestamp": 1719995051664,
     "user": {
      "displayName": "Asad Raza",
      "userId": "18380366987480511932"
     },
     "user_tz": -330
    },
    "id": "D6IBqdJ_rraq",
    "outputId": "ff385824-5f9c-4f77-86a3-6de36a72dc79"
   },
   "outputs": [
    {
     "data": {
      "application/vnd.google.colaboratory.intrinsic+json": {
       "type": "string"
      },
      "text/plain": [
       "'0b101'"
      ]
     },
     "execution_count": 37,
     "metadata": {},
     "output_type": "execute_result"
    }
   ],
   "source": [
    "bin(5)"
   ]
  },
  {
   "cell_type": "code",
   "execution_count": 38,
   "metadata": {
    "colab": {
     "base_uri": "https://localhost:8080/",
     "height": 35
    },
    "executionInfo": {
     "elapsed": 535,
     "status": "ok",
     "timestamp": 1719995063023,
     "user": {
      "displayName": "Asad Raza",
      "userId": "18380366987480511932"
     },
     "user_tz": -330
    },
    "id": "qgUzsRTPsbIa",
    "outputId": "e4d7dac4-adb2-47c8-ba39-a9c497e5a8d0"
   },
   "outputs": [
    {
     "data": {
      "application/vnd.google.colaboratory.intrinsic+json": {
       "type": "string"
      },
      "text/plain": [
       "'0b1000'"
      ]
     },
     "execution_count": 38,
     "metadata": {},
     "output_type": "execute_result"
    }
   ],
   "source": [
    "bin(8)"
   ]
  },
  {
   "cell_type": "code",
   "execution_count": 39,
   "metadata": {
    "colab": {
     "base_uri": "https://localhost:8080/"
    },
    "executionInfo": {
     "elapsed": 658,
     "status": "ok",
     "timestamp": 1719995341732,
     "user": {
      "displayName": "Asad Raza",
      "userId": "18380366987480511932"
     },
     "user_tz": -330
    },
    "id": "XLoMrKqYseDf",
    "outputId": "9b17c384-ac38-427c-e203-28d3f61e4b0b"
   },
   "outputs": [
    {
     "data": {
      "text/plain": [
       "str"
      ]
     },
     "execution_count": 39,
     "metadata": {},
     "output_type": "execute_result"
    }
   ],
   "source": [
    "#(5)Q Explain the concept of type casting in Python with examples\n",
    "\n",
    "#(Ans)= Type casting means changing the one format to another.It is also known as \"Type conversion\"\n",
    "\n",
    "#Examples of type casting are as follows\n",
    "a=5\n",
    "type(str(a))"
   ]
  },
  {
   "cell_type": "code",
   "execution_count": 40,
   "metadata": {
    "colab": {
     "base_uri": "https://localhost:8080/"
    },
    "executionInfo": {
     "elapsed": 498,
     "status": "ok",
     "timestamp": 1719995383812,
     "user": {
      "displayName": "Asad Raza",
      "userId": "18380366987480511932"
     },
     "user_tz": -330
    },
    "id": "w0NRoSqxseUK",
    "outputId": "1dd702ad-f343-4e1e-c07d-1a2ad52f7fba"
   },
   "outputs": [
    {
     "data": {
      "text/plain": [
       "5.0"
      ]
     },
     "execution_count": 40,
     "metadata": {},
     "output_type": "execute_result"
    }
   ],
   "source": [
    "float(a)"
   ]
  },
  {
   "cell_type": "code",
   "execution_count": 41,
   "metadata": {
    "colab": {
     "base_uri": "https://localhost:8080/"
    },
    "executionInfo": {
     "elapsed": 528,
     "status": "ok",
     "timestamp": 1719995445438,
     "user": {
      "displayName": "Asad Raza",
      "userId": "18380366987480511932"
     },
     "user_tz": -330
    },
    "id": "0_qKPPQhsejU",
    "outputId": "3a7d72b4-432c-447c-9d59-b2e4850b5987"
   },
   "outputs": [
    {
     "data": {
      "text/plain": [
       "9"
      ]
     },
     "execution_count": 41,
     "metadata": {},
     "output_type": "execute_result"
    }
   ],
   "source": [
    "a=5\n",
    "b=\"4\"\n",
    "a+int(b)"
   ]
  },
  {
   "cell_type": "code",
   "execution_count": 45,
   "metadata": {
    "colab": {
     "base_uri": "https://localhost:8080/"
    },
    "executionInfo": {
     "elapsed": 596,
     "status": "ok",
     "timestamp": 1719996070330,
     "user": {
      "displayName": "Asad Raza",
      "userId": "18380366987480511932"
     },
     "user_tz": -330
    },
    "id": "kEkSRPZksewq",
    "outputId": "055822be-f0b8-42a3-9155-906ea9ac753b"
   },
   "outputs": [
    {
     "name": "stdout",
     "output_type": "stream",
     "text": [
      "I will play cricket\n"
     ]
    }
   ],
   "source": [
    "#(6)Q How do conditional statements work in Python? Illustrate with examples\n",
    "#(Ans)= Conditional statement:Conditional statement is that type of statement which help you to code decision on the basis of some precondition.\n",
    "#conditional statement are of three type\n",
    "#(1)if\n",
    "#(2)if-else\n",
    "#(3)if-elif-else\n",
    "#(4)nested if-else\n",
    "\n",
    "#Example of \"if \" statement\n",
    "weather=\"sunny\"\n",
    "if weather ==\"sunny\":\n",
    "    print(\"I will play cricket\")"
   ]
  },
  {
   "cell_type": "code",
   "execution_count": 46,
   "metadata": {
    "colab": {
     "base_uri": "https://localhost:8080/"
    },
    "executionInfo": {
     "elapsed": 598,
     "status": "ok",
     "timestamp": 1719996205847,
     "user": {
      "displayName": "Asad Raza",
      "userId": "18380366987480511932"
     },
     "user_tz": -330
    },
    "id": "7b6QV927wVVr",
    "outputId": "00bac2bd-0b19-4ff0-c4fe-91981b8e0118"
   },
   "outputs": [
    {
     "name": "stdout",
     "output_type": "stream",
     "text": [
      "grade B\n"
     ]
    }
   ],
   "source": [
    "#Example of \"else statement\"\n",
    "grade=90\n",
    "if grade>95:\n",
    "    print(\"grade A\")\n",
    "else:\n",
    "    print(\"grade B\")"
   ]
  },
  {
   "cell_type": "code",
   "execution_count": 55,
   "metadata": {
    "colab": {
     "base_uri": "https://localhost:8080/"
    },
    "executionInfo": {
     "elapsed": 639,
     "status": "ok",
     "timestamp": 1719996616282,
     "user": {
      "displayName": "Asad Raza",
      "userId": "18380366987480511932"
     },
     "user_tz": -330
    },
    "id": "jz8Kb8j1wViA",
    "outputId": "2d867142-0c16-4acc-a4ee-5040329df6ac"
   },
   "outputs": [
    {
     "name": "stdout",
     "output_type": "stream",
     "text": [
      "Grade B\n"
     ]
    }
   ],
   "source": [
    "#Example of \"if-elif-else\" Statement\n",
    "number=90\n",
    "if number>95:\n",
    "    print(\"Grade A\")\n",
    "elif number> 85:\n",
    "    print(\"Grade B\")\n",
    "else:\n",
    "    print(\"Grade c\")"
   ]
  },
  {
   "cell_type": "code",
   "execution_count": 4,
   "metadata": {
    "executionInfo": {
     "elapsed": 797,
     "status": "ok",
     "timestamp": 1719998891377,
     "user": {
      "displayName": "Asad Raza",
      "userId": "18380366987480511932"
     },
     "user_tz": -330
    },
    "id": "4bZjoNzowV5O"
   },
   "outputs": [],
   "source": [
    "#(7)Q Describe the different types of loops in Python and their use cases with examples\n",
    "#(Ans)=Loops:Loops statement allow you to execute block of code repeatedly.Loops are of two type (1) While loop ,(2) For loop\n",
    "#while loop= while loops allow you to execute a block of code repeatedly untill the condition is get false.\n",
    "#Example of whole loops"
   ]
  },
  {
   "cell_type": "code",
   "execution_count": 9,
   "metadata": {
    "colab": {
     "base_uri": "https://localhost:8080/"
    },
    "executionInfo": {
     "elapsed": 6,
     "status": "ok",
     "timestamp": 1719999098308,
     "user": {
      "displayName": "Asad Raza",
      "userId": "18380366987480511932"
     },
     "user_tz": -330
    },
    "id": "heDkcTaQwWDP",
    "outputId": "4145283e-3c54-40b5-9b39-a1a532cc8285"
   },
   "outputs": [
    {
     "name": "stdout",
     "output_type": "stream",
     "text": [
      "1\n",
      "2\n",
      "3\n",
      "4\n",
      "5\n",
      "6\n"
     ]
    }
   ],
   "source": [
    "n=7\n",
    "i=1\n",
    "while i<n:\n",
    "    print(i)\n",
    "    i=i+1"
   ]
  },
  {
   "cell_type": "code",
   "execution_count": 10,
   "metadata": {
    "colab": {
     "base_uri": "https://localhost:8080/"
    },
    "executionInfo": {
     "elapsed": 519,
     "status": "ok",
     "timestamp": 1719999462898,
     "user": {
      "displayName": "Asad Raza",
      "userId": "18380366987480511932"
     },
     "user_tz": -330
    },
    "id": "ZY3b8E0W75OQ",
    "outputId": "b43aed50-3e5f-4c73-95a7-a1d0d2134185"
   },
   "outputs": [
    {
     "name": "stdout",
     "output_type": "stream",
     "text": [
      "p\n",
      "w\n",
      "s\n",
      "k\n",
      "i\n",
      "l\n",
      "l\n",
      "s\n"
     ]
    }
   ],
   "source": [
    "#For loops=For loops is that type of statement which execute the code of block repeatedly sequence wise.\n",
    "#Example of for loops are as follow\n",
    "a=\"pwskills\"\n",
    "for i in a:\n",
    "    print(i)"
   ]
  }
 ],
 "metadata": {
  "colab": {
   "authorship_tag": "ABX9TyNXHlkA5xkDrk9PST//0q8e",
   "provenance": [
    {
     "file_id": "1uN0QscbMDtLX5yO4kbXFpNtrAu-r-Bvb",
     "timestamp": 1719999612857
    }
   ]
  },
  "kernelspec": {
   "display_name": "Python 3 (ipykernel)",
   "language": "python",
   "name": "python3"
  },
  "language_info": {
   "codemirror_mode": {
    "name": "ipython",
    "version": 3
   },
   "file_extension": ".py",
   "mimetype": "text/x-python",
   "name": "python",
   "nbconvert_exporter": "python",
   "pygments_lexer": "ipython3",
   "version": "3.10.8"
  }
 },
 "nbformat": 4,
 "nbformat_minor": 4
}
